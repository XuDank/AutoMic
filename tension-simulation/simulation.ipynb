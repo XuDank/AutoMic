{
 "cells": [
  {
   "cell_type": "code",
   "execution_count": 6,
   "metadata": {},
   "outputs": [],
   "source": [
    "def position_input():\n",
    "\n",
    "    while True:\n",
    "\n",
    "        try:\n",
    "\n",
    "            user_input = [float(coordinate) for coordinate in input(\"Enter the coordinates: \").split()]\n",
    "\n",
    "        except:\n",
    "            \n",
    "            print(\"Invalid input!\")\n",
    "\n",
    "        else:\n",
    "\n",
    "            break\n",
    "\n",
    "\n",
    "    match len(user_input):\n",
    "\n",
    "        case 1:\n",
    "\n",
    "            return np.array([0, 0] + user_input)\n",
    "\n",
    "        case 2:\n",
    "\n",
    "            return np.array(user_input + [0])\n",
    "\n",
    "        case 3: \n",
    "\n",
    "            return np.array(user_input)\n",
    "\n",
    "        case _:\n",
    "\n",
    "            return "
   ]
  },
  {
   "cell_type": "code",
   "execution_count": 8,
   "metadata": {},
   "outputs": [
    {
     "ename": "ValueError",
     "evalue": "invalid literal for int() with base 10: ''",
     "output_type": "error",
     "traceback": [
      "\u001b[1;31m---------------------------------------------------------------------------\u001b[0m",
      "\u001b[1;31mFileNotFoundError\u001b[0m                         Traceback (most recent call last)",
      "\u001b[1;32mG:/My Drive/School/21-22/ENGR498/AutoMic/python-server/src/python-server.py\u001b[0m in \u001b[0;36m<module>\u001b[1;34m\u001b[0m\n\u001b[0;32m    540\u001b[0m     \u001b[1;32mtry\u001b[0m\u001b[1;33m:\u001b[0m\u001b[1;33m\u001b[0m\u001b[1;33m\u001b[0m\u001b[0m\n\u001b[1;32m--> 541\u001b[1;33m         \u001b[0mmics\u001b[0m\u001b[1;33m,\u001b[0m \u001b[0msets\u001b[0m \u001b[1;33m=\u001b[0m \u001b[0mpk\u001b[0m\u001b[1;33m.\u001b[0m\u001b[0mload\u001b[0m\u001b[1;33m(\u001b[0m\u001b[0mopen\u001b[0m\u001b[1;33m(\u001b[0m\u001b[1;34m\"config.pkl\"\u001b[0m\u001b[1;33m,\u001b[0m \u001b[1;34m\"rb\"\u001b[0m\u001b[1;33m)\u001b[0m\u001b[1;33m)\u001b[0m\u001b[1;33m\u001b[0m\u001b[1;33m\u001b[0m\u001b[0m\n\u001b[0m\u001b[0;32m    542\u001b[0m \u001b[1;33m\u001b[0m\u001b[0m\n",
      "\u001b[1;31mFileNotFoundError\u001b[0m: [Errno 2] No such file or directory: 'config.pkl'",
      "\nDuring handling of the above exception, another exception occurred:\n",
      "\u001b[1;31mValueError\u001b[0m                                Traceback (most recent call last)",
      "\u001b[1;32m~\\AppData\\Local\\Temp/ipykernel_14016/1272386269.py\u001b[0m in \u001b[0;36m<module>\u001b[1;34m\u001b[0m\n\u001b[1;32m----> 1\u001b[1;33m \u001b[0mexecfile\u001b[0m\u001b[1;33m(\u001b[0m\u001b[1;34m'G:/My Drive/School/21-22/ENGR498/AutoMic/python-server/src/python-server.py'\u001b[0m\u001b[1;33m)\u001b[0m\u001b[1;33m\u001b[0m\u001b[1;33m\u001b[0m\u001b[0m\n\u001b[0m",
      "\u001b[1;32m~\\AppData\\Local\\Programs\\Python\\Python310\\lib\\site-packages\\debugpy\\_vendored\\pydevd\\_pydev_imps\\_pydev_execfile.py\u001b[0m in \u001b[0;36mexecfile\u001b[1;34m(file, glob, loc)\u001b[0m\n\u001b[0;32m     23\u001b[0m \u001b[1;33m\u001b[0m\u001b[0m\n\u001b[0;32m     24\u001b[0m     \u001b[1;31m# execute the script (note: it's important to compile first to have the filename set in debug mode)\u001b[0m\u001b[1;33m\u001b[0m\u001b[1;33m\u001b[0m\u001b[0m\n\u001b[1;32m---> 25\u001b[1;33m     \u001b[0mexec\u001b[0m\u001b[1;33m(\u001b[0m\u001b[0mcompile\u001b[0m\u001b[1;33m(\u001b[0m\u001b[0mcontents\u001b[0m \u001b[1;33m+\u001b[0m \u001b[1;34m\"\\n\"\u001b[0m\u001b[1;33m,\u001b[0m \u001b[0mfile\u001b[0m\u001b[1;33m,\u001b[0m \u001b[1;34m'exec'\u001b[0m\u001b[1;33m)\u001b[0m\u001b[1;33m,\u001b[0m \u001b[0mglob\u001b[0m\u001b[1;33m,\u001b[0m \u001b[0mloc\u001b[0m\u001b[1;33m)\u001b[0m\u001b[1;33m\u001b[0m\u001b[1;33m\u001b[0m\u001b[0m\n\u001b[0m",
      "\u001b[1;32mG:/My Drive/School/21-22/ENGR498/AutoMic/python-server/src/python-server.py\u001b[0m in \u001b[0;36m<module>\u001b[1;34m\u001b[0m\n\u001b[0;32m    543\u001b[0m     \u001b[1;32mexcept\u001b[0m\u001b[1;33m:\u001b[0m\u001b[1;33m\u001b[0m\u001b[1;33m\u001b[0m\u001b[0m\n\u001b[0;32m    544\u001b[0m         \u001b[0msets\u001b[0m \u001b[1;33m=\u001b[0m \u001b[1;33m{\u001b[0m\u001b[1;33m}\u001b[0m\u001b[1;33m\u001b[0m\u001b[1;33m\u001b[0m\u001b[0m\n\u001b[1;32m--> 545\u001b[1;33m         \u001b[0mnum_mics\u001b[0m \u001b[1;33m=\u001b[0m \u001b[0mint\u001b[0m\u001b[1;33m(\u001b[0m\u001b[0minput\u001b[0m\u001b[1;33m(\u001b[0m\u001b[1;34m\"Enter the number of mics: \"\u001b[0m\u001b[1;33m)\u001b[0m\u001b[1;33m)\u001b[0m\u001b[1;33m\u001b[0m\u001b[1;33m\u001b[0m\u001b[0m\n\u001b[0m\u001b[0;32m    546\u001b[0m         \u001b[0mmics\u001b[0m \u001b[1;33m=\u001b[0m \u001b[1;33m[\u001b[0m\u001b[0mMic\u001b[0m\u001b[1;33m(\u001b[0m\u001b[0mid\u001b[0m\u001b[1;33m=\u001b[0m\u001b[0mindex\u001b[0m\u001b[1;33m)\u001b[0m\u001b[1;33m.\u001b[0m\u001b[0medit\u001b[0m\u001b[1;33m(\u001b[0m\u001b[1;33m)\u001b[0m \u001b[1;32mfor\u001b[0m \u001b[0mindex\u001b[0m \u001b[1;32min\u001b[0m \u001b[0mrange\u001b[0m\u001b[1;33m(\u001b[0m\u001b[0mnum_mics\u001b[0m\u001b[1;33m)\u001b[0m\u001b[1;33m]\u001b[0m\u001b[1;33m\u001b[0m\u001b[1;33m\u001b[0m\u001b[0m\n\u001b[0;32m    547\u001b[0m \u001b[1;33m\u001b[0m\u001b[0m\n",
      "\u001b[1;31mValueError\u001b[0m: invalid literal for int() with base 10: ''"
     ]
    }
   ],
   "source": [
    "execfile('G:/My Drive/School/21-22/ENGR498/AutoMic/python-server/src/python-server.py')"
   ]
  },
  {
   "cell_type": "code",
   "execution_count": 56,
   "metadata": {},
   "outputs": [
    {
     "name": "stdout",
     "output_type": "stream",
     "text": [
      "[1.00827676e-01 3.01181560e-02 2.15105711e-16 2.93930039e-01]\n"
     ]
    }
   ],
   "source": [
    "import numpy as np\n",
    "import matplotlib.pyplot as pl\n",
    "import scipy.optimize as op\n",
    "import scipy.constants as cn\n",
    "from numpy.linalg import norm\n",
    "\n",
    "WEIGHT = 1\n",
    "\n",
    "def statics(T, *args):\n",
    "\n",
    "    position, motors = args\n",
    "    T = np.array(T)\n",
    "    a = np.fromfunction(np.vectorize(lambda i, j: (motors[j][i] - position[i]) / norm(motors[i] - position)), (3, 4), dtype = int)\n",
    "    return a.dot(T) + np.array([0, 0, - WEIGHT])\n",
    "\n",
    "position = np.array([2, 0.19, 5])\n",
    "motors = np.array([[0, -11.275, 10], [0, 4.678, 10], [6.01, 7.165, 10], [2.891, 3.663, 35]])\n",
    "\n",
    "def tensions(motors, position):\n",
    "    T = op.minimize(lambda T, *args: sum(list(T)), \n",
    "                x0 = [0, 0, 0, 0],\n",
    "                args = (position, motors),\n",
    "                bounds = ((0, None), ) * 4,\n",
    "                constraints = [{\"type\": \"eq\", \"fun\": statics, 'args': (position, motors)}])\n",
    "    return T.x\n",
    "\n",
    "print(tensions(motors, position))"
   ]
  },
  {
   "cell_type": "code",
   "execution_count": 74,
   "metadata": {},
   "outputs": [
    {
     "name": "stdout",
     "output_type": "stream",
     "text": [
      "[[ 1.          1.          1.        ]\n",
      " [ 1.          1.70710678  1.70710678]\n",
      " [ 1.          2.41421356  2.41421356]\n",
      " [ 1.          3.12132034  3.12132034]\n",
      " [ 1.          3.82842712  3.82842712]\n",
      " [ 1.          4.53553391  4.53553391]\n",
      " [ 1.          5.24264069  5.24264069]\n",
      " [ 1.          5.94974747  5.94974747]\n",
      " [ 1.          6.65685425  6.65685425]\n",
      " [ 1.          7.36396103  7.36396103]\n",
      " [ 1.          8.07106781  8.07106781]\n",
      " [ 1.          8.77817459  8.77817459]\n",
      " [ 1.          9.48528137  9.48528137]\n",
      " [ 1.         10.19238816 10.19238816]\n",
      " [ 1.         10.89949494 10.89949494]\n",
      " [ 1.         11.60660172 11.60660172]\n",
      " [ 1.         12.3137085  12.3137085 ]]\n"
     ]
    }
   ],
   "source": [
    "STEP_SIZE = 1/12\n",
    "start = np.array([1, 1, 1])\n",
    "stop = np.array([1, 2, 2])\n",
    "\n",
    "num_steps = round(norm(stop - start) / STEP_SIZE)\n",
    "steps = np.arange(num_steps)    # the different positions that are reached\n",
    "\n",
    "trajectory = []\n",
    "distance = stop - start\n",
    "\n",
    "for step in range(num_steps):\n",
    "    point = start + distance / norm(distance) * step\n",
    "    trajectory.append(point)\n",
    "\n",
    "x, y, z = ([],[],[] for i in rang)"
   ]
  },
  {
   "cell_type": "code",
   "execution_count": null,
   "metadata": {},
   "outputs": [],
   "source": [
    "start = np.array()\n",
    "stop = np.array()\n",
    "\n",
    "for "
   ]
  }
 ],
 "metadata": {
  "interpreter": {
   "hash": "7ac83d600813170746e33a3d30ac81287b872d9a977c478a82cf130599e4fca1"
  },
  "kernelspec": {
   "display_name": "Python 3.10.0 64-bit",
   "language": "python",
   "name": "python3"
  },
  "language_info": {
   "codemirror_mode": {
    "name": "ipython",
    "version": 3
   },
   "file_extension": ".py",
   "mimetype": "text/x-python",
   "name": "python",
   "nbconvert_exporter": "python",
   "pygments_lexer": "ipython3",
   "version": "3.10.1"
  },
  "orig_nbformat": 4
 },
 "nbformat": 4,
 "nbformat_minor": 2
}
